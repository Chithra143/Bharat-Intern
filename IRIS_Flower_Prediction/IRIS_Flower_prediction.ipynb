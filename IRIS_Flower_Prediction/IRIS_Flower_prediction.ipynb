{
 "cells": [
  {
   "cell_type": "code",
   "execution_count": 5,
   "id": "a8e7e542-cad1-42cb-81b9-f58e72b51f6a",
   "metadata": {},
   "outputs": [],
   "source": [
    "import pandas as pd\n",
    "import numpy as np \n",
    "import seaborn as sns\n",
    "from tensorflow import keras"
   ]
  },
  {
   "cell_type": "code",
   "execution_count": 6,
   "id": "729a188e-01b7-44c3-bd4a-2f80913013c1",
   "metadata": {},
   "outputs": [
    {
     "data": {
      "text/html": [
       "<div>\n",
       "<style scoped>\n",
       "    .dataframe tbody tr th:only-of-type {\n",
       "        vertical-align: middle;\n",
       "    }\n",
       "\n",
       "    .dataframe tbody tr th {\n",
       "        vertical-align: top;\n",
       "    }\n",
       "\n",
       "    .dataframe thead th {\n",
       "        text-align: right;\n",
       "    }\n",
       "</style>\n",
       "<table border=\"1\" class=\"dataframe\">\n",
       "  <thead>\n",
       "    <tr style=\"text-align: right;\">\n",
       "      <th></th>\n",
       "      <th>sepal_length</th>\n",
       "      <th>sepal_width</th>\n",
       "      <th>petal_length</th>\n",
       "      <th>petal_width</th>\n",
       "      <th>species</th>\n",
       "    </tr>\n",
       "  </thead>\n",
       "  <tbody>\n",
       "    <tr>\n",
       "      <th>0</th>\n",
       "      <td>5.1</td>\n",
       "      <td>3.5</td>\n",
       "      <td>1.4</td>\n",
       "      <td>0.2</td>\n",
       "      <td>Iris-setosa</td>\n",
       "    </tr>\n",
       "    <tr>\n",
       "      <th>1</th>\n",
       "      <td>4.9</td>\n",
       "      <td>3.0</td>\n",
       "      <td>1.4</td>\n",
       "      <td>0.2</td>\n",
       "      <td>Iris-setosa</td>\n",
       "    </tr>\n",
       "    <tr>\n",
       "      <th>2</th>\n",
       "      <td>4.7</td>\n",
       "      <td>3.2</td>\n",
       "      <td>1.3</td>\n",
       "      <td>0.2</td>\n",
       "      <td>Iris-setosa</td>\n",
       "    </tr>\n",
       "    <tr>\n",
       "      <th>3</th>\n",
       "      <td>4.6</td>\n",
       "      <td>3.1</td>\n",
       "      <td>1.5</td>\n",
       "      <td>0.2</td>\n",
       "      <td>Iris-setosa</td>\n",
       "    </tr>\n",
       "    <tr>\n",
       "      <th>4</th>\n",
       "      <td>5.0</td>\n",
       "      <td>3.6</td>\n",
       "      <td>1.4</td>\n",
       "      <td>0.2</td>\n",
       "      <td>Iris-setosa</td>\n",
       "    </tr>\n",
       "  </tbody>\n",
       "</table>\n",
       "</div>"
      ],
      "text/plain": [
       "   sepal_length  sepal_width  petal_length  petal_width      species\n",
       "0           5.1          3.5           1.4          0.2  Iris-setosa\n",
       "1           4.9          3.0           1.4          0.2  Iris-setosa\n",
       "2           4.7          3.2           1.3          0.2  Iris-setosa\n",
       "3           4.6          3.1           1.5          0.2  Iris-setosa\n",
       "4           5.0          3.6           1.4          0.2  Iris-setosa"
      ]
     },
     "execution_count": 6,
     "metadata": {},
     "output_type": "execute_result"
    }
   ],
   "source": [
    "df = pd.read_csv(\"IRIS.csv\")\n",
    "df.head()"
   ]
  },
  {
   "cell_type": "code",
   "execution_count": 7,
   "id": "172d0ed0-d0be-44ef-8fd6-86ae7216a382",
   "metadata": {},
   "outputs": [
    {
     "data": {
      "text/plain": [
       "sepal_length    0\n",
       "sepal_width     0\n",
       "petal_length    0\n",
       "petal_width     0\n",
       "species         0\n",
       "dtype: int64"
      ]
     },
     "execution_count": 7,
     "metadata": {},
     "output_type": "execute_result"
    }
   ],
   "source": [
    "df.isnull().sum()"
   ]
  },
  {
   "cell_type": "code",
   "execution_count": 8,
   "id": "adc8fe09-aabf-4ca3-bc84-db5b73c2e3d0",
   "metadata": {},
   "outputs": [
    {
     "data": {
      "text/plain": [
       "species\n",
       "Iris-setosa        50\n",
       "Iris-versicolor    50\n",
       "Iris-virginica     50\n",
       "Name: count, dtype: int64"
      ]
     },
     "execution_count": 8,
     "metadata": {},
     "output_type": "execute_result"
    }
   ],
   "source": [
    "df['species'].value_counts()"
   ]
  },
  {
   "cell_type": "code",
   "execution_count": 9,
   "id": "c863fe11-89de-4f4f-94bb-e002de000506",
   "metadata": {},
   "outputs": [
    {
     "name": "stdout",
     "output_type": "stream",
     "text": [
      "<class 'pandas.core.frame.DataFrame'>\n",
      "RangeIndex: 150 entries, 0 to 149\n",
      "Data columns (total 5 columns):\n",
      " #   Column        Non-Null Count  Dtype  \n",
      "---  ------        --------------  -----  \n",
      " 0   sepal_length  150 non-null    float64\n",
      " 1   sepal_width   150 non-null    float64\n",
      " 2   petal_length  150 non-null    float64\n",
      " 3   petal_width   150 non-null    float64\n",
      " 4   species       150 non-null    object \n",
      "dtypes: float64(4), object(1)\n",
      "memory usage: 6.0+ KB\n"
     ]
    }
   ],
   "source": [
    "df.info()"
   ]
  },
  {
   "cell_type": "code",
   "execution_count": 10,
   "id": "96279c84-6c72-4429-b9e1-d81b2f42c794",
   "metadata": {},
   "outputs": [
    {
     "data": {
      "text/plain": [
       "species\n",
       "0    50\n",
       "1    50\n",
       "2    50\n",
       "Name: count, dtype: int64"
      ]
     },
     "execution_count": 10,
     "metadata": {},
     "output_type": "execute_result"
    }
   ],
   "source": [
    "from sklearn.preprocessing import LabelEncoder\n",
    "le = LabelEncoder()\n",
    "df['species'] = le.fit_transform(df['species'])\n",
    "df.head()\n",
    "df['species'].value_counts()"
   ]
  },
  {
   "cell_type": "code",
   "execution_count": 11,
   "id": "4c510eb7-962b-4e11-9e06-e0f5d6be657a",
   "metadata": {},
   "outputs": [
    {
     "name": "stdout",
     "output_type": "stream",
     "text": [
      "['Iris-setosa' 'Iris-versicolor' 'Iris-virginica']\n"
     ]
    }
   ],
   "source": [
    "species_name = le.classes_\n",
    "print(species_name)"
   ]
  },
  {
   "cell_type": "code",
   "execution_count": 12,
   "id": "10693362-cdda-4b1d-bdcc-da3b15ed5e13",
   "metadata": {},
   "outputs": [],
   "source": [
    "x = df.drop(columns = ['species'])\n",
    "y = df['species']"
   ]
  },
  {
   "cell_type": "code",
   "execution_count": 13,
   "id": "acc56ecb-0b78-4460-ad45-18065c0a12ca",
   "metadata": {},
   "outputs": [],
   "source": [
    "from sklearn.model_selection import train_test_split\n",
    "x_train, x_test, y_train, y_test = train_test_split(x,y, test_size=0.3, shuffle=True, random_state=69)"
   ]
  },
  {
   "cell_type": "code",
   "execution_count": 14,
   "id": "e00258d6-f40c-43e1-bfb9-1443ca331a2f",
   "metadata": {},
   "outputs": [],
   "source": [
    "from sklearn.preprocessing import StandardScaler\n",
    "scale = StandardScaler()\n",
    "x_train = scale.fit_transform(x_train)\n",
    "x_test = scale.transform(x_test)"
   ]
  },
  {
   "cell_type": "code",
   "execution_count": 15,
   "id": "82c97221-a9aa-4f38-9113-26c8d7c0106a",
   "metadata": {},
   "outputs": [],
   "source": [
    "y_train = keras.utils.to_categorical(y_train, num_classes = 3)"
   ]
  },
  {
   "cell_type": "code",
   "execution_count": 16,
   "id": "58d06ab2-8350-4cba-b65d-fcee2e91d33e",
   "metadata": {},
   "outputs": [],
   "source": [
    "from keras.models import Sequential\n",
    "from keras.layers import Dense, Dropout"
   ]
  },
  {
   "cell_type": "code",
   "execution_count": 17,
   "id": "53633c98-42ec-46e3-9ea3-0622a495f247",
   "metadata": {},
   "outputs": [
    {
     "name": "stderr",
     "output_type": "stream",
     "text": [
      "C:\\Users\\DELL\\anaconda3\\Lib\\site-packages\\keras\\src\\layers\\core\\dense.py:87: UserWarning: Do not pass an `input_shape`/`input_dim` argument to a layer. When using Sequential models, prefer using an `Input(shape)` object as the first layer in the model instead.\n",
      "  super().__init__(activity_regularizer=activity_regularizer, **kwargs)\n"
     ]
    }
   ],
   "source": [
    "model = Sequential()\n",
    "model.add(Dense(units=32, activation='relu', input_shape=(x_train.shape[-1], )))\n",
    "model.add(Dense(units=32, activation='relu'))\n",
    "model.add(Dropout(0.5))\n",
    "model.add(Dense(units=3,activation='softmax'))"
   ]
  },
  {
   "cell_type": "code",
   "execution_count": 18,
   "id": "a2741be5-8a94-4055-aa1a-e0095eaa6178",
   "metadata": {},
   "outputs": [
    {
     "data": {
      "text/html": [
       "<pre style=\"white-space:pre;overflow-x:auto;line-height:normal;font-family:Menlo,'DejaVu Sans Mono',consolas,'Courier New',monospace\"><span style=\"font-weight: bold\">Model: \"sequential\"</span>\n",
       "</pre>\n"
      ],
      "text/plain": [
       "\u001b[1mModel: \"sequential\"\u001b[0m\n"
      ]
     },
     "metadata": {},
     "output_type": "display_data"
    },
    {
     "data": {
      "text/html": [
       "<pre style=\"white-space:pre;overflow-x:auto;line-height:normal;font-family:Menlo,'DejaVu Sans Mono',consolas,'Courier New',monospace\">┏━━━━━━━━━━━━━━━━━━━━━━━━━━━━━━━━━━━━━━┳━━━━━━━━━━━━━━━━━━━━━━━━━━━━━┳━━━━━━━━━━━━━━━━━┓\n",
       "┃<span style=\"font-weight: bold\"> Layer (type)                         </span>┃<span style=\"font-weight: bold\"> Output Shape                </span>┃<span style=\"font-weight: bold\">         Param # </span>┃\n",
       "┡━━━━━━━━━━━━━━━━━━━━━━━━━━━━━━━━━━━━━━╇━━━━━━━━━━━━━━━━━━━━━━━━━━━━━╇━━━━━━━━━━━━━━━━━┩\n",
       "│ dense (<span style=\"color: #0087ff; text-decoration-color: #0087ff\">Dense</span>)                        │ (<span style=\"color: #00d7ff; text-decoration-color: #00d7ff\">None</span>, <span style=\"color: #00af00; text-decoration-color: #00af00\">32</span>)                  │             <span style=\"color: #00af00; text-decoration-color: #00af00\">160</span> │\n",
       "├──────────────────────────────────────┼─────────────────────────────┼─────────────────┤\n",
       "│ dense_1 (<span style=\"color: #0087ff; text-decoration-color: #0087ff\">Dense</span>)                      │ (<span style=\"color: #00d7ff; text-decoration-color: #00d7ff\">None</span>, <span style=\"color: #00af00; text-decoration-color: #00af00\">32</span>)                  │           <span style=\"color: #00af00; text-decoration-color: #00af00\">1,056</span> │\n",
       "├──────────────────────────────────────┼─────────────────────────────┼─────────────────┤\n",
       "│ dropout (<span style=\"color: #0087ff; text-decoration-color: #0087ff\">Dropout</span>)                    │ (<span style=\"color: #00d7ff; text-decoration-color: #00d7ff\">None</span>, <span style=\"color: #00af00; text-decoration-color: #00af00\">32</span>)                  │               <span style=\"color: #00af00; text-decoration-color: #00af00\">0</span> │\n",
       "├──────────────────────────────────────┼─────────────────────────────┼─────────────────┤\n",
       "│ dense_2 (<span style=\"color: #0087ff; text-decoration-color: #0087ff\">Dense</span>)                      │ (<span style=\"color: #00d7ff; text-decoration-color: #00d7ff\">None</span>, <span style=\"color: #00af00; text-decoration-color: #00af00\">3</span>)                   │              <span style=\"color: #00af00; text-decoration-color: #00af00\">99</span> │\n",
       "└──────────────────────────────────────┴─────────────────────────────┴─────────────────┘\n",
       "</pre>\n"
      ],
      "text/plain": [
       "┏━━━━━━━━━━━━━━━━━━━━━━━━━━━━━━━━━━━━━━┳━━━━━━━━━━━━━━━━━━━━━━━━━━━━━┳━━━━━━━━━━━━━━━━━┓\n",
       "┃\u001b[1m \u001b[0m\u001b[1mLayer (type)                        \u001b[0m\u001b[1m \u001b[0m┃\u001b[1m \u001b[0m\u001b[1mOutput Shape               \u001b[0m\u001b[1m \u001b[0m┃\u001b[1m \u001b[0m\u001b[1m        Param #\u001b[0m\u001b[1m \u001b[0m┃\n",
       "┡━━━━━━━━━━━━━━━━━━━━━━━━━━━━━━━━━━━━━━╇━━━━━━━━━━━━━━━━━━━━━━━━━━━━━╇━━━━━━━━━━━━━━━━━┩\n",
       "│ dense (\u001b[38;5;33mDense\u001b[0m)                        │ (\u001b[38;5;45mNone\u001b[0m, \u001b[38;5;34m32\u001b[0m)                  │             \u001b[38;5;34m160\u001b[0m │\n",
       "├──────────────────────────────────────┼─────────────────────────────┼─────────────────┤\n",
       "│ dense_1 (\u001b[38;5;33mDense\u001b[0m)                      │ (\u001b[38;5;45mNone\u001b[0m, \u001b[38;5;34m32\u001b[0m)                  │           \u001b[38;5;34m1,056\u001b[0m │\n",
       "├──────────────────────────────────────┼─────────────────────────────┼─────────────────┤\n",
       "│ dropout (\u001b[38;5;33mDropout\u001b[0m)                    │ (\u001b[38;5;45mNone\u001b[0m, \u001b[38;5;34m32\u001b[0m)                  │               \u001b[38;5;34m0\u001b[0m │\n",
       "├──────────────────────────────────────┼─────────────────────────────┼─────────────────┤\n",
       "│ dense_2 (\u001b[38;5;33mDense\u001b[0m)                      │ (\u001b[38;5;45mNone\u001b[0m, \u001b[38;5;34m3\u001b[0m)                   │              \u001b[38;5;34m99\u001b[0m │\n",
       "└──────────────────────────────────────┴─────────────────────────────┴─────────────────┘\n"
      ]
     },
     "metadata": {},
     "output_type": "display_data"
    },
    {
     "data": {
      "text/html": [
       "<pre style=\"white-space:pre;overflow-x:auto;line-height:normal;font-family:Menlo,'DejaVu Sans Mono',consolas,'Courier New',monospace\"><span style=\"font-weight: bold\"> Total params: </span><span style=\"color: #00af00; text-decoration-color: #00af00\">1,315</span> (5.14 KB)\n",
       "</pre>\n"
      ],
      "text/plain": [
       "\u001b[1m Total params: \u001b[0m\u001b[38;5;34m1,315\u001b[0m (5.14 KB)\n"
      ]
     },
     "metadata": {},
     "output_type": "display_data"
    },
    {
     "data": {
      "text/html": [
       "<pre style=\"white-space:pre;overflow-x:auto;line-height:normal;font-family:Menlo,'DejaVu Sans Mono',consolas,'Courier New',monospace\"><span style=\"font-weight: bold\"> Trainable params: </span><span style=\"color: #00af00; text-decoration-color: #00af00\">1,315</span> (5.14 KB)\n",
       "</pre>\n"
      ],
      "text/plain": [
       "\u001b[1m Trainable params: \u001b[0m\u001b[38;5;34m1,315\u001b[0m (5.14 KB)\n"
      ]
     },
     "metadata": {},
     "output_type": "display_data"
    },
    {
     "data": {
      "text/html": [
       "<pre style=\"white-space:pre;overflow-x:auto;line-height:normal;font-family:Menlo,'DejaVu Sans Mono',consolas,'Courier New',monospace\"><span style=\"font-weight: bold\"> Non-trainable params: </span><span style=\"color: #00af00; text-decoration-color: #00af00\">0</span> (0.00 B)\n",
       "</pre>\n"
      ],
      "text/plain": [
       "\u001b[1m Non-trainable params: \u001b[0m\u001b[38;5;34m0\u001b[0m (0.00 B)\n"
      ]
     },
     "metadata": {},
     "output_type": "display_data"
    }
   ],
   "source": [
    "model.compile(optimizer='Adam', loss='categorical_crossentropy', metrics=['accuracy'])\n",
    "model.summary()"
   ]
  },
  {
   "cell_type": "code",
   "execution_count": 19,
   "id": "b6197507-4490-4051-af08-5134a7e74421",
   "metadata": {},
   "outputs": [
    {
     "name": "stdout",
     "output_type": "stream",
     "text": [
      "Epoch 1/100\n",
      "4/4 - 1s - 284ms/step - accuracy: 0.3143 - loss: 1.1469\n",
      "Epoch 2/100\n",
      "4/4 - 0s - 14ms/step - accuracy: 0.3524 - loss: 1.1285\n",
      "Epoch 3/100\n",
      "4/4 - 0s - 12ms/step - accuracy: 0.4095 - loss: 1.0812\n",
      "Epoch 4/100\n",
      "4/4 - 0s - 15ms/step - accuracy: 0.5714 - loss: 0.9662\n",
      "Epoch 5/100\n",
      "4/4 - 0s - 12ms/step - accuracy: 0.5524 - loss: 0.9615\n",
      "Epoch 6/100\n",
      "4/4 - 0s - 13ms/step - accuracy: 0.5619 - loss: 0.9578\n",
      "Epoch 7/100\n",
      "4/4 - 0s - 9ms/step - accuracy: 0.5810 - loss: 0.9273\n",
      "Epoch 8/100\n",
      "4/4 - 0s - 10ms/step - accuracy: 0.6857 - loss: 0.8541\n",
      "Epoch 9/100\n",
      "4/4 - 0s - 10ms/step - accuracy: 0.6476 - loss: 0.8853\n",
      "Epoch 10/100\n",
      "4/4 - 0s - 11ms/step - accuracy: 0.7333 - loss: 0.8154\n",
      "Epoch 11/100\n",
      "4/4 - 0s - 11ms/step - accuracy: 0.6571 - loss: 0.7965\n",
      "Epoch 12/100\n",
      "4/4 - 0s - 11ms/step - accuracy: 0.6667 - loss: 0.8033\n",
      "Epoch 13/100\n",
      "4/4 - 0s - 9ms/step - accuracy: 0.7714 - loss: 0.7526\n",
      "Epoch 14/100\n",
      "4/4 - 0s - 10ms/step - accuracy: 0.7619 - loss: 0.7050\n",
      "Epoch 15/100\n",
      "4/4 - 0s - 10ms/step - accuracy: 0.8286 - loss: 0.6953\n",
      "Epoch 16/100\n",
      "4/4 - 0s - 10ms/step - accuracy: 0.7810 - loss: 0.6741\n",
      "Epoch 17/100\n",
      "4/4 - 0s - 12ms/step - accuracy: 0.7524 - loss: 0.6570\n",
      "Epoch 18/100\n",
      "4/4 - 0s - 12ms/step - accuracy: 0.8000 - loss: 0.6370\n",
      "Epoch 19/100\n",
      "4/4 - 0s - 9ms/step - accuracy: 0.7810 - loss: 0.6085\n",
      "Epoch 20/100\n",
      "4/4 - 0s - 11ms/step - accuracy: 0.8190 - loss: 0.5766\n",
      "Epoch 21/100\n",
      "4/4 - 0s - 10ms/step - accuracy: 0.8190 - loss: 0.6074\n",
      "Epoch 22/100\n",
      "4/4 - 0s - 11ms/step - accuracy: 0.8381 - loss: 0.5192\n",
      "Epoch 23/100\n",
      "4/4 - 0s - 10ms/step - accuracy: 0.8667 - loss: 0.5285\n",
      "Epoch 24/100\n",
      "4/4 - 0s - 10ms/step - accuracy: 0.7619 - loss: 0.5547\n",
      "Epoch 25/100\n",
      "4/4 - 0s - 10ms/step - accuracy: 0.7810 - loss: 0.5383\n",
      "Epoch 26/100\n",
      "4/4 - 0s - 11ms/step - accuracy: 0.8190 - loss: 0.4746\n",
      "Epoch 27/100\n",
      "4/4 - 0s - 11ms/step - accuracy: 0.7810 - loss: 0.4895\n",
      "Epoch 28/100\n",
      "4/4 - 0s - 11ms/step - accuracy: 0.8286 - loss: 0.4768\n",
      "Epoch 29/100\n",
      "4/4 - 0s - 10ms/step - accuracy: 0.8095 - loss: 0.4925\n",
      "Epoch 30/100\n",
      "4/4 - 0s - 15ms/step - accuracy: 0.8095 - loss: 0.4420\n",
      "Epoch 31/100\n",
      "4/4 - 0s - 11ms/step - accuracy: 0.8095 - loss: 0.4670\n",
      "Epoch 32/100\n",
      "4/4 - 0s - 10ms/step - accuracy: 0.8762 - loss: 0.4049\n",
      "Epoch 33/100\n",
      "4/4 - 0s - 10ms/step - accuracy: 0.8000 - loss: 0.4503\n",
      "Epoch 34/100\n",
      "4/4 - 0s - 10ms/step - accuracy: 0.8476 - loss: 0.4202\n",
      "Epoch 35/100\n",
      "4/4 - 0s - 11ms/step - accuracy: 0.8667 - loss: 0.4098\n",
      "Epoch 36/100\n",
      "4/4 - 0s - 11ms/step - accuracy: 0.8190 - loss: 0.4214\n",
      "Epoch 37/100\n",
      "4/4 - 0s - 10ms/step - accuracy: 0.8762 - loss: 0.3906\n",
      "Epoch 38/100\n",
      "4/4 - 0s - 11ms/step - accuracy: 0.8381 - loss: 0.4128\n",
      "Epoch 39/100\n",
      "4/4 - 0s - 11ms/step - accuracy: 0.8762 - loss: 0.3490\n",
      "Epoch 40/100\n",
      "4/4 - 0s - 11ms/step - accuracy: 0.8667 - loss: 0.3588\n",
      "Epoch 41/100\n",
      "4/4 - 0s - 10ms/step - accuracy: 0.8667 - loss: 0.3769\n",
      "Epoch 42/100\n",
      "4/4 - 0s - 11ms/step - accuracy: 0.7810 - loss: 0.4129\n",
      "Epoch 43/100\n",
      "4/4 - 0s - 11ms/step - accuracy: 0.8286 - loss: 0.3785\n",
      "Epoch 44/100\n",
      "4/4 - 0s - 10ms/step - accuracy: 0.8190 - loss: 0.3413\n",
      "Epoch 45/100\n",
      "4/4 - 0s - 12ms/step - accuracy: 0.8286 - loss: 0.3747\n",
      "Epoch 46/100\n",
      "4/4 - 0s - 10ms/step - accuracy: 0.8000 - loss: 0.3935\n",
      "Epoch 47/100\n",
      "4/4 - 0s - 9ms/step - accuracy: 0.8667 - loss: 0.3163\n",
      "Epoch 48/100\n",
      "4/4 - 0s - 12ms/step - accuracy: 0.8476 - loss: 0.3717\n",
      "Epoch 49/100\n",
      "4/4 - 0s - 13ms/step - accuracy: 0.8667 - loss: 0.3325\n",
      "Epoch 50/100\n",
      "4/4 - 0s - 13ms/step - accuracy: 0.8476 - loss: 0.3466\n",
      "Epoch 51/100\n",
      "4/4 - 0s - 10ms/step - accuracy: 0.8476 - loss: 0.3438\n",
      "Epoch 52/100\n",
      "4/4 - 0s - 10ms/step - accuracy: 0.8095 - loss: 0.3638\n",
      "Epoch 53/100\n",
      "4/4 - 0s - 11ms/step - accuracy: 0.9048 - loss: 0.3080\n",
      "Epoch 54/100\n",
      "4/4 - 0s - 10ms/step - accuracy: 0.8857 - loss: 0.3051\n",
      "Epoch 55/100\n",
      "4/4 - 0s - 11ms/step - accuracy: 0.8381 - loss: 0.3413\n",
      "Epoch 56/100\n",
      "4/4 - 0s - 11ms/step - accuracy: 0.9143 - loss: 0.3603\n",
      "Epoch 57/100\n",
      "4/4 - 0s - 8ms/step - accuracy: 0.8286 - loss: 0.3623\n",
      "Epoch 58/100\n",
      "4/4 - 0s - 12ms/step - accuracy: 0.9048 - loss: 0.2809\n",
      "Epoch 59/100\n",
      "4/4 - 0s - 9ms/step - accuracy: 0.9143 - loss: 0.2640\n",
      "Epoch 60/100\n",
      "4/4 - 0s - 9ms/step - accuracy: 0.9048 - loss: 0.2646\n",
      "Epoch 61/100\n",
      "4/4 - 0s - 8ms/step - accuracy: 0.8857 - loss: 0.2997\n",
      "Epoch 62/100\n",
      "4/4 - 0s - 8ms/step - accuracy: 0.9048 - loss: 0.2761\n",
      "Epoch 63/100\n",
      "4/4 - 0s - 10ms/step - accuracy: 0.9238 - loss: 0.2621\n",
      "Epoch 64/100\n",
      "4/4 - 0s - 13ms/step - accuracy: 0.8952 - loss: 0.3084\n",
      "Epoch 65/100\n",
      "4/4 - 0s - 12ms/step - accuracy: 0.9143 - loss: 0.2680\n",
      "Epoch 66/100\n",
      "4/4 - 0s - 9ms/step - accuracy: 0.9524 - loss: 0.2245\n",
      "Epoch 67/100\n",
      "4/4 - 0s - 10ms/step - accuracy: 0.9048 - loss: 0.2699\n",
      "Epoch 68/100\n",
      "4/4 - 0s - 9ms/step - accuracy: 0.9238 - loss: 0.2519\n",
      "Epoch 69/100\n",
      "4/4 - 0s - 10ms/step - accuracy: 0.8952 - loss: 0.2589\n",
      "Epoch 70/100\n",
      "4/4 - 0s - 11ms/step - accuracy: 0.9143 - loss: 0.2496\n",
      "Epoch 71/100\n",
      "4/4 - 0s - 11ms/step - accuracy: 0.9429 - loss: 0.2223\n",
      "Epoch 72/100\n",
      "4/4 - 0s - 13ms/step - accuracy: 0.9048 - loss: 0.2789\n",
      "Epoch 73/100\n",
      "4/4 - 0s - 13ms/step - accuracy: 0.9333 - loss: 0.2185\n",
      "Epoch 74/100\n",
      "4/4 - 0s - 9ms/step - accuracy: 0.8762 - loss: 0.2922\n",
      "Epoch 75/100\n",
      "4/4 - 0s - 10ms/step - accuracy: 0.9238 - loss: 0.2157\n",
      "Epoch 76/100\n",
      "4/4 - 0s - 9ms/step - accuracy: 0.9524 - loss: 0.2027\n",
      "Epoch 77/100\n",
      "4/4 - 0s - 9ms/step - accuracy: 0.9048 - loss: 0.2544\n",
      "Epoch 78/100\n",
      "4/4 - 0s - 10ms/step - accuracy: 0.9333 - loss: 0.2279\n",
      "Epoch 79/100\n",
      "4/4 - 0s - 10ms/step - accuracy: 0.9143 - loss: 0.2237\n",
      "Epoch 80/100\n",
      "4/4 - 0s - 9ms/step - accuracy: 0.8952 - loss: 0.2536\n",
      "Epoch 81/100\n",
      "4/4 - 0s - 9ms/step - accuracy: 0.9429 - loss: 0.1791\n",
      "Epoch 82/100\n",
      "4/4 - 0s - 10ms/step - accuracy: 0.8952 - loss: 0.2446\n",
      "Epoch 83/100\n",
      "4/4 - 0s - 12ms/step - accuracy: 0.9333 - loss: 0.2082\n",
      "Epoch 84/100\n",
      "4/4 - 0s - 9ms/step - accuracy: 0.9333 - loss: 0.2370\n",
      "Epoch 85/100\n",
      "4/4 - 0s - 10ms/step - accuracy: 0.9333 - loss: 0.1867\n",
      "Epoch 86/100\n",
      "4/4 - 0s - 12ms/step - accuracy: 0.9333 - loss: 0.2424\n",
      "Epoch 87/100\n",
      "4/4 - 0s - 9ms/step - accuracy: 0.9238 - loss: 0.2306\n",
      "Epoch 88/100\n",
      "4/4 - 0s - 10ms/step - accuracy: 0.9524 - loss: 0.1945\n",
      "Epoch 89/100\n",
      "4/4 - 0s - 9ms/step - accuracy: 0.9143 - loss: 0.1992\n",
      "Epoch 90/100\n",
      "4/4 - 0s - 9ms/step - accuracy: 0.9333 - loss: 0.2075\n",
      "Epoch 91/100\n",
      "4/4 - 0s - 9ms/step - accuracy: 0.9238 - loss: 0.2146\n",
      "Epoch 92/100\n",
      "4/4 - 0s - 9ms/step - accuracy: 0.9524 - loss: 0.1998\n",
      "Epoch 93/100\n",
      "4/4 - 0s - 9ms/step - accuracy: 0.9143 - loss: 0.2278\n",
      "Epoch 94/100\n",
      "4/4 - 0s - 9ms/step - accuracy: 0.9238 - loss: 0.1791\n",
      "Epoch 95/100\n",
      "4/4 - 0s - 10ms/step - accuracy: 0.9429 - loss: 0.1976\n",
      "Epoch 96/100\n",
      "4/4 - 0s - 11ms/step - accuracy: 0.9714 - loss: 0.1869\n",
      "Epoch 97/100\n",
      "4/4 - 0s - 9ms/step - accuracy: 0.9619 - loss: 0.1692\n",
      "Epoch 98/100\n",
      "4/4 - 0s - 10ms/step - accuracy: 0.9429 - loss: 0.1949\n",
      "Epoch 99/100\n",
      "4/4 - 0s - 9ms/step - accuracy: 0.9333 - loss: 0.1887\n",
      "Epoch 100/100\n",
      "4/4 - 0s - 9ms/step - accuracy: 0.9238 - loss: 0.2081\n"
     ]
    },
    {
     "data": {
      "text/plain": [
       "<keras.src.callbacks.history.History at 0x1c83088d350>"
      ]
     },
     "execution_count": 19,
     "metadata": {},
     "output_type": "execute_result"
    }
   ],
   "source": [
    "model.fit(x_train, y_train, epochs=100, verbose=2)"
   ]
  },
  {
   "cell_type": "code",
   "execution_count": 20,
   "id": "a57066a8-25ee-4831-b7dc-8dd948b8120b",
   "metadata": {},
   "outputs": [
    {
     "name": "stdout",
     "output_type": "stream",
     "text": [
      "\u001b[1m2/2\u001b[0m \u001b[32m━━━━━━━━━━━━━━━━━━━━\u001b[0m\u001b[37m\u001b[0m \u001b[1m0s\u001b[0m 32ms/step \n",
      "[[9.9954093e-01 4.4904204e-04 1.0023354e-05]\n",
      " [9.4161369e-03 9.0971661e-01 8.0867276e-02]\n",
      " [9.9813062e-01 1.8351052e-03 3.4228051e-05]\n",
      " [1.5406670e-04 4.8309404e-02 9.5153654e-01]\n",
      " [9.9808723e-01 1.8636270e-03 4.9141505e-05]]\n"
     ]
    }
   ],
   "source": [
    "prediction = model.predict(x_test)\n",
    "print(prediction[:5])"
   ]
  },
  {
   "cell_type": "code",
   "execution_count": 21,
   "id": "3f6baf43-002a-4aa1-a093-d9d140ca9e5d",
   "metadata": {},
   "outputs": [
    {
     "name": "stdout",
     "output_type": "stream",
     "text": [
      "[0 1 0 2 0]\n"
     ]
    }
   ],
   "source": [
    "prediction = np.argmax(prediction, axis=-1)\n",
    "print(prediction[:5])"
   ]
  },
  {
   "cell_type": "code",
   "execution_count": 22,
   "id": "fa441a26-a7f1-4875-9696-49303b2142be",
   "metadata": {},
   "outputs": [
    {
     "name": "stdout",
     "output_type": "stream",
     "text": [
      "4      0\n",
      "58     1\n",
      "20     0\n",
      "114    2\n",
      "31     0\n",
      "Name: species, dtype: int32\n"
     ]
    }
   ],
   "source": [
    "print(y_test[:5])"
   ]
  },
  {
   "cell_type": "code",
   "execution_count": 23,
   "id": "e7268600-6fdc-4015-aeb0-ee064552b683",
   "metadata": {},
   "outputs": [
    {
     "name": "stdout",
     "output_type": "stream",
     "text": [
      "0.9777777777777777\n"
     ]
    }
   ],
   "source": [
    "from sklearn.metrics import accuracy_score, confusion_matrix\n",
    "print(accuracy_score(y_test,prediction))"
   ]
  },
  {
   "cell_type": "code",
   "execution_count": 24,
   "id": "8c3be25d-83c9-41ea-86ad-79fd68b67903",
   "metadata": {},
   "outputs": [
    {
     "name": "stdout",
     "output_type": "stream",
     "text": [
      "[[16  0  0]\n",
      " [ 0 12  0]\n",
      " [ 0  1 16]]\n"
     ]
    }
   ],
   "source": [
    "cm = confusion_matrix(y_test,prediction)\n",
    "print(cm)"
   ]
  },
  {
   "cell_type": "code",
   "execution_count": 25,
   "id": "86ff0324-8ae4-44d1-8f0c-187bb1819234",
   "metadata": {},
   "outputs": [
    {
     "data": {
      "text/plain": [
       "Text(50.72222222222221, 0.5, 'actual')"
      ]
     },
     "execution_count": 25,
     "metadata": {},
     "output_type": "execute_result"
    },
    {
     "data": {
      "image/png": "[encoded data removed]",
      "text/plain": [
       "<Figure size 640x480 with 2 Axes>"
      ]
     },
     "metadata": {},
     "output_type": "display_data"
    }
   ],
   "source": [
    "map = sns.heatmap(cm, annot=True, fmt='d', cmap='Reds', xticklabels=species_name, yticklabels=species_name)\n",
    "map.set_title('Confusion matrix for iris dataset prediction')\n",
    "map.set_xlabel('prediction', fontsize=14)\n",
    "map.set_ylabel('actual', fontsize=14)"
   ]
  },
  {
   "cell_type": "code",
   "execution_count": 51,
   "id": "a5a5b685-7597-42e0-be53-200c6e603272",
   "metadata": {},
   "outputs": [],
   "source": [
    "import pickle\n",
    "\n",
    "with open('iris_model.pkl', 'wb') as model_file:\n",
    "    pickle.dump(model, model_file)\n",
    "\n",
    "# Save the scaler as well (if you're scaling the inputs)\n",
    "with open('iris_scaler.pkl', 'wb') as scaler_file:\n",
    "    pickle.dump(scale, scaler_file)"
   ]
  }
 ],
 "metadata": {
  "kernelspec": {
   "display_name": "Python 3 (ipykernel)",
   "language": "python",
   "name": "python3"
  },
  "language_info": {
   "codemirror_mode": {
    "name": "ipython",
    "version": 3
   },
   "file_extension": ".py",
   "mimetype": "text/x-python",
   "name": "python",
   "nbconvert_exporter": "python",
   "pygments_lexer": "ipython3",
   "version": "3.11.5"
  }
 },
 "nbformat": 4,
 "nbformat_minor": 5
}
