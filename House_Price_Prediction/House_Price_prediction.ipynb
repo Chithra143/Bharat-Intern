{
 "cells": [
  {
   "cell_type": "code",
   "execution_count": null,
   "id": "500dfd3d-51ab-4c01-8d57-09c26622bf8c",
   "metadata": {},
   "outputs": [],
   "source": [
    "import pandas as pd\n",
    "import numpy as np\n",
    "import matplotlib.pyplot as plt\n",
    "import seaborn as sns"
   ]
  },
  {
   "cell_type": "code",
   "execution_count": null,
   "id": "80345dee-25d5-43e3-bde6-4bba2c1e65cd",
   "metadata": {},
   "outputs": [],
   "source": [
    "dataset = pd.read_csv('housing.csv')\n",
    "dataset"
   ]
  },
  {
   "cell_type": "code",
   "execution_count": null,
   "id": "4d186771-db23-4395-a84e-60b01cea171b",
   "metadata": {},
   "outputs": [],
   "source": [
    "dataset.isnull().sum()"
   ]
  },
  {
   "cell_type": "code",
   "execution_count": null,
   "id": "fc092d37-74e5-48fa-b81e-99c472d70992",
   "metadata": {},
   "outputs": [],
   "source": [
    "dataset = dataset.dropna()"
   ]
  },
  {
   "cell_type": "code",
   "execution_count": null,
   "id": "a4bbc257-76b2-4b9e-a6c3-48537f587eaf",
   "metadata": {},
   "outputs": [],
   "source": [
    "dataset.isnull().sum()"
   ]
  },
  {
   "cell_type": "code",
   "execution_count": null,
   "id": "ef02a6eb-65e0-4dd0-a867-5299cf6ec257",
   "metadata": {},
   "outputs": [],
   "source": [
    "data = dataset.drop(columns=['longitude','latitude','households','median_income'])\n",
    "print(data)\n",
    "data.to_csv(\"final_dataset.csv\")"
   ]
  },
  {
   "cell_type": "code",
   "execution_count": null,
   "id": "3ad70755-ee5a-4569-9770-8102356480fc",
   "metadata": {},
   "outputs": [],
   "source": [
    "data.hist(figsize=(15, 8))"
   ]
  },
  {
   "cell_type": "code",
   "execution_count": null,
   "id": "3d0c48f4-621a-4252-89a6-4b662cb3e319",
   "metadata": {},
   "outputs": [],
   "source": [
    "data[\"total_rooms\"] = np.log(data[\"total_rooms\"] + 1)\n",
    "data[\"total_bedrooms\"] = np.log(data[\"total_bedrooms\"] + 1)\n",
    "data[\"population\"] = np.log(data[\"population\"] + 1)\n"
   ]
  },
  {
   "cell_type": "code",
   "execution_count": null,
   "id": "aae4cd50-89d3-4d5c-8858-2dd147761f4e",
   "metadata": {},
   "outputs": [],
   "source": [
    "plt.figure(figsize=(15, 8))\n",
    "sns.heatmap(data.select_dtypes(include=[float,int]).corr(), annot=True, cmap = 'YlGnBu')"
   ]
  },
  {
   "cell_type": "code",
   "execution_count": null,
   "id": "fc1f22a7-83e2-433a-ba45-64a9b613b125",
   "metadata": {},
   "outputs": [],
   "source": [
    "data.hist(figsize=(15, 8))"
   ]
  },
  {
   "cell_type": "code",
   "execution_count": null,
   "id": "e0baadb4-de81-4e34-b301-94406ff14a43",
   "metadata": {},
   "outputs": [],
   "source": [
    "data=data.join(pd.get_dummies(data.ocean_proximity,dtype=int)).drop([\"ocean_proximity\"],axis=1)"
   ]
  },
  {
   "cell_type": "code",
   "execution_count": null,
   "id": "27f9fff3-9d8b-4985-a76f-176c34c306c4",
   "metadata": {},
   "outputs": [],
   "source": [
    "data"
   ]
  },
  {
   "cell_type": "code",
   "execution_count": null,
   "id": "4d4efb50-a57b-4437-a3e2-8065db2a3cc5",
   "metadata": {},
   "outputs": [],
   "source": [
    "plt.figure(figsize=(15, 8))\n",
    "sns.heatmap(data.corr(), annot=True, cmap = 'YlGnBu')"
   ]
  },
  {
   "cell_type": "code",
   "execution_count": null,
   "id": "82295775-6dcd-465b-ab53-5507cffe3ac6",
   "metadata": {},
   "outputs": [],
   "source": [
    "from sklearn.model_selection import train_test_split\n",
    "from sklearn.linear_model import LinearRegression\n",
    "from sklearn.preprocessing import StandardScaler\n",
    "scaler = StandardScaler()\n",
    "\n",
    "x=data.drop(['median_house_value'],axis=1)\n",
    "y=data['median_house_value']\n"
   ]
  },
  {
   "cell_type": "code",
   "execution_count": null,
   "id": "0ec08753-68c7-435e-88b0-28b79a512e53",
   "metadata": {},
   "outputs": [],
   "source": [
    "x = scaler.fit_transform(x)"
   ]
  },
  {
   "cell_type": "code",
   "execution_count": null,
   "id": "f47541ec-8abf-4ca0-86fa-52860db7d3da",
   "metadata": {},
   "outputs": [],
   "source": [
    "x_train, x_test, y_train, y_test = train_test_split(x, y, test_size=0.3, random_state=42)  \n",
    "x_test"
   ]
  },
  {
   "cell_type": "code",
   "execution_count": null,
   "id": "a5f0a8a3-09a1-4a4b-8143-8c81c4fca8c5",
   "metadata": {},
   "outputs": [],
   "source": [
    "reg = LinearRegression()\n",
    "reg.fit(x_train, y_train)"
   ]
  },
  {
   "cell_type": "code",
   "execution_count": null,
   "id": "b56b4515-f1af-49cf-8ce6-59d43037f925",
   "metadata": {},
   "outputs": [],
   "source": [
    "reg.score(x_test, y_test)"
   ]
  },
  {
   "cell_type": "code",
   "execution_count": null,
   "id": "b83c2727-4e57-4528-8374-744052fffa54",
   "metadata": {},
   "outputs": [],
   "source": [
    "from sklearn.ensemble import RandomForestRegressor\n",
    "\n",
    "forest = RandomForestRegressor()\n",
    "\n",
    "forest.fit(x_train, y_train)"
   ]
  },
  {
   "cell_type": "code",
   "execution_count": null,
   "id": "8cd8385e-4e5c-4244-be21-abb0511e4245",
   "metadata": {},
   "outputs": [],
   "source": [
    "forest.score(x_test, y_test)"
   ]
  },
  {
   "cell_type": "code",
   "execution_count": null,
   "id": "7f218a09-cb07-49a6-bca9-da62356a2b4d",
   "metadata": {},
   "outputs": [],
   "source": [
    "from sklearn.pipeline import make_pipeline\n",
    "pipe = make_pipeline(StandardScaler(), RandomForestRegressor())"
   ]
  },
  {
   "cell_type": "code",
   "execution_count": null,
   "id": "af162a68-ec98-44db-94d3-600449aa5ce3",
   "metadata": {},
   "outputs": [],
   "source": [
    "pipe.fit(x_train, y_train)"
   ]
  },
  {
   "cell_type": "code",
   "execution_count": null,
   "id": "0687b52f-8776-44e6-acf6-1646ff7acf33",
   "metadata": {},
   "outputs": [],
   "source": [
    "y_predict = pipe.predict(x_test)"
   ]
  },
  {
   "cell_type": "code",
   "execution_count": null,
   "id": "e6291ea7-877e-4753-85c2-c45880a9b011",
   "metadata": {},
   "outputs": [],
   "source": [
    "from sklearn.metrics import r2_score\n",
    "r2_score(y_test, y_predict)"
   ]
  },
  {
   "cell_type": "code",
   "execution_count": null,
   "id": "c3954f6d-c5e3-40eb-83ce-fc0a2ab30249",
   "metadata": {},
   "outputs": [],
   "source": [
    "import pickle\n",
    "\n",
    "pickle.dump(reg, open('reg.pkl', 'wb'))"
   ]
  }
 ],
 "metadata": {
  "kernelspec": {
   "display_name": "Python 3 (ipykernel)",
   "language": "python",
   "name": "python3"
  },
  "language_info": {
   "codemirror_mode": {
    "name": "ipython",
    "version": 3
   },
   "file_extension": ".py",
   "mimetype": "text/x-python",
   "name": "python",
   "nbconvert_exporter": "python",
   "pygments_lexer": "ipython3",
   "version": "3.11.5"
  }
 },
 "nbformat": 4,
 "nbformat_minor": 5
}
